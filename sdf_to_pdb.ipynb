{
 "cells": [
  {
   "cell_type": "code",
   "execution_count": 9,
   "metadata": {},
   "outputs": [
    {
     "name": "stdout",
     "output_type": "stream",
     "text": [
      "Conversion successful. PDB file saved as 'C:\\Users\\rohan\\OneDrive\\Desktop\\Docking\\output_pdb.pdb'.\n"
     ]
    }
   ],
   "source": [
    "from rdkit import Chem\n",
    "from rdkit.Chem import AllChem\n",
    "\n",
    "def convert_sdf_to_pdb(sdf_file, pdb_file):\n",
    "    # Read SDF file\n",
    "    supplier = Chem.SDMolSupplier(sdf_file)\n",
    "    \n",
    "    # Assuming there's only one molecule in the SDF file\n",
    "    mol = supplier[0]\n",
    "\n",
    "    if mol is None:\n",
    "        print(\"Error: Unable to read molecule from SDF file.\")\n",
    "        return\n",
    "\n",
    "    # Add hydrogen atoms\n",
    "    mol = Chem.AddHs(mol)\n",
    "\n",
    "    # Generate 3D coordinates if needed\n",
    "    AllChem.Compute2DCoords(mol)\n",
    "    AllChem.EmbedMolecule(mol, randomSeed=42)\n",
    "\n",
    "    # Write the molecule to a PDB file\n",
    "    with open(pdb_file, 'w') as pdb_output:\n",
    "        for atom in mol.GetAtoms():\n",
    "            pdb_output.write(f\"ATOM  {atom.GetIdx() + 1: >5} {atom.GetSymbol(): >4} MOL     1    \"\n",
    "                              f\"{mol.GetConformer().GetAtomPosition(atom.GetIdx()).x: >8.3f}\"\n",
    "                              f\"{mol.GetConformer().GetAtomPosition(atom.GetIdx()).y: >8.3f}\"\n",
    "                              f\"{mol.GetConformer().GetAtomPosition(atom.GetIdx()).z: >8.3f}\\n\")\n",
    "        \n",
    "        pdb_output.write(\"END\\n\")\n",
    "\n",
    "    print(f\"Conversion successful. PDB file saved as '{pdb_file}'.\")\n",
    "\n",
    "sdf_file_path = \"path.sdf\"\n",
    "pdb_output_path = \"output.pdb\"\n",
    "convert_sdf_to_pdb(sdf_file_path, pdb_output_path)"
   ]
  },
  {
   "cell_type": "code",
   "execution_count": null,
   "metadata": {},
   "outputs": [],
   "source": []
  }
 ],
 "metadata": {
  "kernelspec": {
   "display_name": "Python 3",
   "language": "python",
   "name": "python3"
  },
  "language_info": {
   "codemirror_mode": {
    "name": "ipython",
    "version": 3
   },
   "file_extension": ".py",
   "mimetype": "text/x-python",
   "name": "python",
   "nbconvert_exporter": "python",
   "pygments_lexer": "ipython3",
   "version": "3.11.4"
  },
  "orig_nbformat": 4
 },
 "nbformat": 4,
 "nbformat_minor": 2
}
