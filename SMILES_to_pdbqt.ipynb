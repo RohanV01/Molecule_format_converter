{
 "cells": [
  {
   "cell_type": "code",
   "execution_count": null,
   "metadata": {},
   "outputs": [],
   "source": [
    "import pandas as pd\n",
    "from rdkit import Chem\n",
    "from rdkit.Chem import AllChem\n",
    "from rdkit.Chem import MolToPDBBlock\n",
    "import os\n",
    "import traceback\n",
    "\n",
    "csv_path = \"path.csv\"\n",
    "output_folder = \"output.csv\"\n",
    "\n",
    "df = pd.read_csv(csv_path)\n",
    "\n",
    "os.makedirs(output_folder, exist_ok=True)\n",
    "\n",
    "log_file = os.path.join(output_folder, \"error_log.txt\")\n",
    "\n",
    "success_df = pd.DataFrame(columns=df.columns)\n",
    "\n",
    "with open(log_file, \"w\") as log:\n",
    "    for index, row in df.iterrows():\n",
    "        smiles = row[\"SMILES\"]\n",
    "        compound_name = row[\"Name\"]\n",
    "\n",
    "        try:\n",
    "            if pd.isna(smiles) or not Chem.MolFromSmiles(smiles):\n",
    "                raise ValueError(f\"Invalid SMILES in row {index + 2}\")\n",
    "\n",
    "            mol = Chem.MolFromSmiles(smiles)\n",
    "            mol = Chem.AddHs(mol)\n",
    "            AllChem.EmbedMolecule(mol)\n",
    "\n",
    "            pdbqt_filename = os.path.join(output_folder, f\"{compound_name}.pdbqt\")\n",
    "            with open(pdbqt_filename, \"w\") as pdbqt_file:\n",
    "                pdbqt_file.write(MolToPDBBlock(mol))\n",
    "\n",
    "           \n",
    "            success_df = success_df.append(row, ignore_index=True)\n",
    "\n",
    "        except Exception as e:\n",
    "            log.write(f\"Error processing row {index + 2}: {str(e)}\\n\")\n",
    "            traceback.print_exc(file=log)\n",
    "\n",
    "\n",
    "success_df.to_csv(csv_path, index=False)\n",
    "\n",
    "print(\"Conversion complete. Check the error log for details.\")"
   ]
  }
 ],
 "metadata": {
  "language_info": {
   "name": "python"
  }
 },
 "nbformat": 4,
 "nbformat_minor": 2
}
